{
 "cells": [
  {
   "cell_type": "code",
   "execution_count": 1,
   "id": "d3b6da34-3092-4d16-9a42-45d60b2f75f9",
   "metadata": {},
   "outputs": [],
   "source": [
    "import os\n",
    "import json\n",
    "import pandas as pd\n",
    "from tqdm import tqdm\n",
    "from ensemble_boxes import *\n",
    "from glob import glob"
   ]
  },
  {
   "cell_type": "markdown",
   "id": "e3be385b-914c-4c5e-a992-f200922654bd",
   "metadata": {},
   "source": [
    "# Step1. 환경/경로 설정"
   ]
  },
  {
   "cell_type": "code",
   "execution_count": 2,
   "id": "954ffb57-370e-4c1e-9d57-aa8223ab529a",
   "metadata": {},
   "outputs": [],
   "source": [
    "WIDTH, HEIGHT = 640, 480 # input resulution이 640 x 480 이라고 가정했습니다. 혹시 아니면 연락주세요!\n",
    "IMAGE_DIR = \"../dataset/images/test_open\"\n",
    "SRC_DIR = \"./results\"\n",
    "OUTPUT_FILENAME = \"ensenble.txt\""
   ]
  },
  {
   "cell_type": "code",
   "execution_count": 3,
   "id": "57abf1a1-07e6-4c3b-a732-473b4d4f3b25",
   "metadata": {},
   "outputs": [],
   "source": [
    "image_files = glob(os.path.join(IMAGE_DIR, \"*.png\"))\n",
    "results = glob(os.path.join(SRC_DIR,\"*.txt\"))\n",
    "images = [os.path.basename(x).strip('.png') for x in image_files]\n",
    "assert len(results) == 21 # we have 21 results \n",
    "assert len(images) > 0"
   ]
  },
  {
   "cell_type": "markdown",
   "id": "af09277a-42fb-472b-ba19-86940c752c67",
   "metadata": {},
   "source": [
    "# Step2. 추론 파일 불러오기 "
   ]
  },
  {
   "cell_type": "code",
   "execution_count": 4,
   "id": "f5cec3b3-0eee-49c5-a6a8-29eee2d26655",
   "metadata": {},
   "outputs": [],
   "source": [
    "dataframes = []\n",
    "\n",
    "for result_file in results:\n",
    "    assert os.path.isfile(result_file)\n",
    "    with open(result_file, \"r\") as f:\n",
    "        dataframes.append(pd.DataFrame(json.load(f)))\n",
    "        "
   ]
  },
  {
   "cell_type": "markdown",
   "id": "907e8e72-b11f-44ec-a702-a1fca7633daf",
   "metadata": {},
   "source": [
    "# Step3. 앙상블 수행 "
   ]
  },
  {
   "cell_type": "code",
   "execution_count": 5,
   "id": "c8912b80-8998-402f-a913-43d9154ddfc0",
   "metadata": {},
   "outputs": [
    {
     "name": "stderr",
     "output_type": "stream",
     "text": [
      "100%|██████████████████████████████████████████████████████████████████████████████| 1636/1636 [00:14<00:00, 110.06it/s]\n"
     ]
    }
   ],
   "source": [
    "dst_list = []\n",
    "for image_id in tqdm(images):\n",
    "    image_id = image_id.strip(\".png\")\n",
    "    boxes_list = []\n",
    "    scores_list = []\n",
    "    labels_list = []\n",
    "    \n",
    "    for c_df in dataframes:\n",
    "        t_df = c_df.loc[c_df.image_id == image_id].reset_index(drop=True)\n",
    "        t_df['x1y1x2y2'] = t_df['bbox'].apply(lambda x:[\n",
    "            min(max(x[0] / WIDTH, 0), 1), \n",
    "            min(max(x[1] / HEIGHT, 0), 1), \n",
    "            min(max((x[0] + x[2]) / WIDTH, 0), 1), \n",
    "            min(max((x[1] + x[3]) / HEIGHT, 0), 1), \n",
    "        ])\n",
    "        boxes_list.append(t_df['x1y1x2y2'].to_list())\n",
    "        scores_list.append(t_df['score'].to_list())\n",
    "        labels_list.append(t_df['category_id'].to_list())\n",
    "    \n",
    "    weights = [1] * len(results)\n",
    "    iou_thr = 0.8\n",
    "    skip_box_thr = 0.0001\n",
    "    boxes, scores, labels = weighted_boxes_fusion(boxes_list, scores_list, labels_list, weights=weights, iou_thr=iou_thr, skip_box_thr=skip_box_thr)\n",
    "    xywh = [[x[0] * WIDTH, x[1] * HEIGHT, (x[2] - x[0]) * WIDTH, (x[3] - x[1]) * HEIGHT] for x in boxes]\n",
    "\n",
    "    for category_id, bbox, score in zip(labels, xywh, scores):\n",
    "        dst_list.append({\n",
    "            'image_id': image_id,\n",
    "            'category_id': int(category_id),\n",
    "            'bbox': bbox,\n",
    "            'score': score\n",
    "        })\n",
    "    "
   ]
  },
  {
   "cell_type": "markdown",
   "id": "7ac11dcf-4ec9-4789-96fb-c002edfd4dd6",
   "metadata": {},
   "source": [
    "# Step4. 결과 저장"
   ]
  },
  {
   "cell_type": "code",
   "execution_count": 7,
   "id": "1314a4c4-f52c-407f-a785-8ba45d498af9",
   "metadata": {},
   "outputs": [
    {
     "name": "stdout",
     "output_type": "stream",
     "text": [
      "/workspace/notebooks/ensenble.txt\n"
     ]
    }
   ],
   "source": [
    "with open(OUTPUT_FILENAME, 'w') as w:\n",
    "    json.dump(dst_list, w)\n",
    "print(os.path.abspath(OUTPUT_FILENAME))\n",
    "assert os.path.isfile(OUTPUT_FILENAME)"
   ]
  }
 ],
 "metadata": {
  "kernelspec": {
   "display_name": "Python 3 (ipykernel)",
   "language": "python",
   "name": "python3"
  },
  "language_info": {
   "codemirror_mode": {
    "name": "ipython",
    "version": 3
   },
   "file_extension": ".py",
   "mimetype": "text/x-python",
   "name": "python",
   "nbconvert_exporter": "python",
   "pygments_lexer": "ipython3",
   "version": "3.8.12"
  }
 },
 "nbformat": 4,
 "nbformat_minor": 5
}
